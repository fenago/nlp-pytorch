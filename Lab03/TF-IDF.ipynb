{
 "cells": [
  {
   "cell_type": "code",
   "execution_count": null,
   "metadata": {},
   "outputs": [],
   "source": [
    "import nltk\n",
    "from nltk.tokenize import sent_tokenize, word_tokenize \n",
    "from nltk.corpus import stopwords\n",
    "import numpy as np\n",
    "from sklearn.metrics.pairwise import cosine_similarity"
   ]
  },
  {
   "cell_type": "code",
   "execution_count": null,
   "metadata": {},
   "outputs": [],
   "source": [
    "emma = nltk.corpus.gutenberg.sents('austen-emma.txt')\n",
    "\n",
    "emma_sentences = []\n",
    "emma_word_set = []\n",
    "\n",
    "for sentence in emma:\n",
    "    emma_sentences.append([word.lower() for word in sentence if word.isalpha()])\n",
    "    for word in sentence:\n",
    "        if word.isalpha():\n",
    "            emma_word_set.append(word.lower())\n",
    "\n",
    "emma_word_set = set(emma_word_set)"
   ]
  },
  {
   "cell_type": "code",
   "execution_count": null,
   "metadata": {},
   "outputs": [],
   "source": [
    "def TermFreq(document, word):\n",
    "    doc_length = len(document)\n",
    "    occurances = len([w for w in document if w == word])\n",
    "    return occurances / doc_length\n",
    "\n",
    "TF(emma_sentences[5], 'ago')"
   ]
  },
  {
   "cell_type": "code",
   "execution_count": null,
   "metadata": {},
   "outputs": [],
   "source": [
    "def build_DF_dict():\n",
    "    output = {}\n",
    "    for word in emma_word_set:\n",
    "        output[word] = 0\n",
    "        for doc in emma_sentences:\n",
    "            if word in doc:\n",
    "                output[word] += 1\n",
    "    return output\n",
    "        \n",
    "df_dict = build_DF_dict()\n",
    "\n",
    "df_dict['ago']"
   ]
  },
  {
   "cell_type": "code",
   "execution_count": null,
   "metadata": {},
   "outputs": [],
   "source": [
    "def InverseDocumentFrequency(word):\n",
    "    N = len(emma_sentences)\n",
    "    try:\n",
    "        df = df_dict[word] + 1\n",
    "    except:\n",
    "        df = 1\n",
    "    return np.log(N/df)\n",
    "\n",
    "InverseDocumentFrequency('ago')"
   ]
  },
  {
   "cell_type": "code",
   "execution_count": null,
   "metadata": {},
   "outputs": [],
   "source": [
    "def TFIDF(doc, word):\n",
    "    tf = TF(doc, word)\n",
    "    idf = InverseDocumentFrequency(word)\n",
    "    return tf*idf\n",
    "\n",
    "print('ago - ' + str(TFIDF(emma_sentences[5],'ago')))\n",
    "print('indistinct - ' + str(TFIDF(emma_sentences[5],'indistinct')))"
   ]
  },
  {
   "cell_type": "code",
   "execution_count": null,
   "metadata": {},
   "outputs": [],
   "source": [
    "def loadGlove(path):\n",
    "    file = open(path,'r')\n",
    "    model = {}\n",
    "    for l in file:\n",
    "        line = l.split()\n",
    "        word = line[0]\n",
    "        value = np.array([float(val) for val in line[1:]])\n",
    "        model[word] = value\n",
    "    return model\n",
    "\n",
    "glove = loadGlove('glove.6B.50d.txt')"
   ]
  },
  {
   "cell_type": "code",
   "execution_count": null,
   "metadata": {},
   "outputs": [],
   "source": [
    "embeddings = []\n",
    "\n",
    "for word in emma_sentences[5]:\n",
    "    embeddings.append(glove[word])\n",
    "\n",
    "mean_embedding = np.mean(embeddings, axis = 0).reshape(1, -1)\n",
    "\n",
    "print(mean_embedding)"
   ]
  },
  {
   "cell_type": "code",
   "execution_count": null,
   "metadata": {},
   "outputs": [],
   "source": [
    "embeddings = []\n",
    "\n",
    "for word in emma_sentences[5]:\n",
    "    tfidf = TFIDF(emma_sentences[5], word)\n",
    "    embeddings.append(glove[word]* tfidf) \n",
    "    \n",
    "tfidf_weighted_embedding = np.mean(embeddings, axis = 0).reshape(1, -1)\n",
    "\n",
    "print(tfidf_weighted_embedding)"
   ]
  },
  {
   "cell_type": "code",
   "execution_count": null,
   "metadata": {},
   "outputs": [],
   "source": [
    "cosine_similarity(mean_embedding, tfidf_weighted_embedding)"
   ]
  }
 ],
 "metadata": {
  "kernelspec": {
   "display_name": "Python 3",
   "language": "python",
   "name": "python3"
  },
  "language_info": {
   "codemirror_mode": {
    "name": "ipython",
    "version": 3
   },
   "file_extension": ".py",
   "mimetype": "text/x-python",
   "name": "python",
   "nbconvert_exporter": "python",
   "pygments_lexer": "ipython3",
   "version": "3.7.3"
  }
 },
 "nbformat": 4,
 "nbformat_minor": 2
}
