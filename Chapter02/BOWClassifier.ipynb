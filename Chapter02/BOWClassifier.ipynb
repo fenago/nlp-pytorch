{
 "cells": [
  {
   "cell_type": "code",
   "execution_count": 20,
   "metadata": {
    "collapsed": true
   },
   "outputs": [],
   "source": [
    "import numpy as np \n",
    "import pandas as pd \n",
    "\n",
    "import matplotlib.pyplot as plt\n",
    "\n",
    "import torch\n",
    "import torch.nn.functional as F\n",
    "from torch import nn, optim"
   ]
  },
  {
   "cell_type": "code",
   "execution_count": 21,
   "metadata": {},
   "outputs": [
    {
     "name": "stdout",
     "output_type": "stream",
     "text": [
      "{'the': 5, 'libro': 22, 'a': 9, 'estoy': 16, 'am': 7, 'paginas': 1, 'chapter': 15, 'library': 6, 'la': 18, 'un': 21, 'favourite': 14, 'reading': 8, 'will': 3, 'i': 2, 'leyendo': 23, 'en': 17, 'not': 24, 'visit': 4, 'book': 10, 'is': 12, 'biblioteca': 19, 'this': 11, 'my': 13, 'tengo': 20, 'veinte': 0}\n"
     ]
    }
   ],
   "source": [
    "training_data = [\n",
    "        (\"Veinte paginas\".lower().split(), \"Spanish\"),\n",
    "        (\"I will visit the library\".lower().split(), \"English\"),\n",
    "        (\"I am reading a book\".lower().split(), \"English\"),\n",
    "        (\"This is my favourite chapter\".lower().split(), \"English\"),\n",
    "        (\"Estoy en la biblioteca\".lower().split(), \"Spanish\"),\n",
    "        (\"Tengo un libro\".lower().split(), \"Spanish\")\n",
    "        ]\n",
    "\n",
    "test_data = [\n",
    "        (\"Estoy leyendo\".lower().split(), \"Spanish\"),\n",
    "        (\"This is not my favourite book\".lower().split(), \"English\")\n",
    "        ]\n",
    "\n",
    "word_dict = {}\n",
    "i = 0\n",
    "for words, language in training_data + test_data:\n",
    "    for word in words:\n",
    "        if word not in word_dict:\n",
    "            word_dict[word] = i\n",
    "            i += 1\n",
    "print(word_dict)\n",
    "\n"
   ]
  },
  {
   "cell_type": "code",
   "execution_count": 22,
   "metadata": {
    "collapsed": true
   },
   "outputs": [],
   "source": [
    "corpus_size = len(word_dict)\n",
    "languages = 2\n",
    "label_index = {\"Spanish\": 0, \"English\": 1}"
   ]
  },
  {
   "cell_type": "code",
   "execution_count": 23,
   "metadata": {
    "collapsed": true
   },
   "outputs": [],
   "source": [
    "class BagofWordsClassifier(nn.Module):  \n",
    "\n",
    "    def __init__(self, languages, corpus_size):\n",
    "        super(BagofWordsClassifier, self).__init__()\n",
    "        self.linear = nn.Linear(corpus_size, languages)\n",
    "\n",
    "    def forward(self, bow_vec):\n",
    "        return F.log_softmax(self.linear(bow_vec), dim=1)"
   ]
  },
  {
   "cell_type": "code",
   "execution_count": 24,
   "metadata": {
    "collapsed": true
   },
   "outputs": [],
   "source": [
    "def make_bow_vector(sentence, word_index):\n",
    "    word_vec = torch.zeros(corpus_size)\n",
    "    for word in sentence:\n",
    "        word_vec[word_dict[word]] += 1\n",
    "    return word_vec.view(1, -1)\n",
    "\n",
    "def make_target(label, label_index):\n",
    "    return torch.LongTensor([label_index[label]])"
   ]
  },
  {
   "cell_type": "code",
   "execution_count": 25,
   "metadata": {
    "collapsed": true
   },
   "outputs": [],
   "source": [
    "model = BagofWordsClassifier(languages, corpus_size)"
   ]
  },
  {
   "cell_type": "code",
   "execution_count": 27,
   "metadata": {},
   "outputs": [],
   "source": [
    "loss_function = nn.NLLLoss()\n",
    "optimizer = optim.SGD(model.parameters(), lr=0.1)"
   ]
  },
  {
   "cell_type": "code",
   "execution_count": 30,
   "metadata": {},
   "outputs": [
    {
     "name": "stdout",
     "output_type": "stream",
     "text": [
      "Epoch:  1 , Loss: 0.013411426916718483\n",
      "Epoch:  11 , Loss: 0.012176347896456718\n",
      "Epoch:  21 , Loss: 0.011149131692945957\n",
      "Epoch:  31 , Loss: 0.0102814557030797\n",
      "Epoch:  41 , Loss: 0.009538905695080757\n",
      "Epoch:  51 , Loss: 0.00889623910188675\n",
      "Epoch:  61 , Loss: 0.00833461619913578\n",
      "Epoch:  71 , Loss: 0.007839507423341274\n",
      "Epoch:  81 , Loss: 0.007399887777864933\n",
      "Epoch:  91 , Loss: 0.007006953936070204\n"
     ]
    }
   ],
   "source": [
    "for epoch in range(100):\n",
    "    for sentence, label in training_data:\n",
    "\n",
    "        model.zero_grad()\n",
    "\n",
    "        bow_vec = make_bow_vector(sentence, word_dict)\n",
    "        target = make_target(label, label_index)\n",
    "\n",
    "        log_probs = model(bow_vec)\n",
    "\n",
    "        loss = loss_function(log_probs, target)\n",
    "        loss.backward()\n",
    "        optimizer.step()\n",
    "        \n",
    "    if epoch % 10 == 0:\n",
    "        print('Epoch: ',str(epoch+1),', Loss: ' + str(loss.item()))"
   ]
  },
  {
   "cell_type": "code",
   "execution_count": 78,
   "metadata": {},
   "outputs": [
    {
     "name": "stdout",
     "output_type": "stream",
     "text": [
      "['estoy', 'leyendo']\n",
      "Spanish:\n",
      "tensor([[0.8606, 0.1394]])\n",
      "['this', 'is', 'not', 'my', 'favourite', 'book']\n",
      "English:\n",
      "tensor([[0.0074, 0.9926]])\n"
     ]
    }
   ],
   "source": [
    "def make_predictions(data):\n",
    "\n",
    "    with torch.no_grad():\n",
    "        sentence = data[0]\n",
    "        label = data[1]\n",
    "        bow_vec = make_bow_vector(sentence, word_dict)\n",
    "        log_probs = model(bow_vec)\n",
    "        print(sentence)\n",
    "        print(label + ':')\n",
    "        print(np.exp(log_probs))\n",
    "        \n",
    "make_predictions(test_data[0])\n",
    "make_predictions(test_data[1])"
   ]
  },
  {
   "cell_type": "code",
   "execution_count": 74,
   "metadata": {},
   "outputs": [
    {
     "name": "stdout",
     "output_type": "stream",
     "text": [
      "book:\n",
      "Spanish Parameter = -0.49991941452026367\n",
      "English Parameter = 0.4414403736591339\n",
      "\n",
      "\n",
      "estoy:\n",
      "Spanish Parameter = 0.43009454011917114\n",
      "English Parameter = -0.5826961398124695\n",
      "\n",
      "\n"
     ]
    }
   ],
   "source": [
    "def return_params(word): \n",
    "    index = word_dict[word]\n",
    "    for p in model.parameters():\n",
    "        dims = len(p.size())\n",
    "        if dims == 2:\n",
    "            print(word + ':')\n",
    "            print('Spanish Parameter = ' + str(p[0][index].item()))\n",
    "            print('English Parameter = ' + str(p[1][index].item()))\n",
    "            print('\\n')\n",
    "            \n",
    "return_params('estoy')\n",
    "return_params('book')"
   ]
  },
  {
   "cell_type": "code",
   "execution_count": 85,
   "metadata": {},
   "outputs": [
    {
     "name": "stdout",
     "output_type": "stream",
     "text": [
      "['not']\n",
      "English:\n",
      "tensor([[0.7152, 0.2848]])\n"
     ]
    }
   ],
   "source": [
    "new_sentence = ([\"not\"],\"English\")\n",
    "make_predictions(new_sentence)"
   ]
  },
  {
   "cell_type": "code",
   "execution_count": null,
   "metadata": {
    "collapsed": true
   },
   "outputs": [],
   "source": []
  }
 ],
 "metadata": {
  "kernelspec": {
   "display_name": "pytorchNLP",
   "language": "python",
   "name": "pytorchnlp"
  },
  "language_info": {
   "codemirror_mode": {
    "name": "ipython",
    "version": 3
   },
   "file_extension": ".py",
   "mimetype": "text/x-python",
   "name": "python",
   "nbconvert_exporter": "python",
   "pygments_lexer": "ipython3",
   "version": "3.5.2"
  }
 },
 "nbformat": 4,
 "nbformat_minor": 2
}
