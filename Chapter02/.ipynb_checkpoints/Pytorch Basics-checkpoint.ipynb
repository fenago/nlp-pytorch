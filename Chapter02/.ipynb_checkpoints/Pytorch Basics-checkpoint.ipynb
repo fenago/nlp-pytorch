{
 "cells": [
  {
   "cell_type": "code",
   "execution_count": 1,
   "metadata": {},
   "outputs": [
    {
     "name": "stdout",
     "output_type": "stream",
     "text": [
      "tensor([1., 2.])\n"
     ]
    }
   ],
   "source": [
    "#construct a tensor\n",
    "\n",
    "import torch\n",
    "\n",
    "x = torch.tensor([1., 2.])\n",
    "\n",
    "print(x)"
   ]
  },
  {
   "cell_type": "code",
   "execution_count": 2,
   "metadata": {
    "scrolled": true
   },
   "outputs": [
    {
     "name": "stdout",
     "output_type": "stream",
     "text": [
      "tensor([3., 8.])\n"
     ]
    }
   ],
   "source": [
    "#product of 2 tensors\n",
    "\n",
    "x = torch.tensor([1., 2.])\n",
    "y = torch.tensor([3., 4.])\n",
    "\n",
    "print(x * y)"
   ]
  },
  {
   "cell_type": "code",
   "execution_count": 3,
   "metadata": {},
   "outputs": [
    {
     "name": "stdout",
     "output_type": "stream",
     "text": [
      "tensor(2.)\n",
      "2.0\n"
     ]
    }
   ],
   "source": [
    "#returning elements of a tensor\n",
    "\n",
    "x = torch.tensor([[1., 2.],[5., 3.],[0., 4.]])\n",
    "\n",
    "print(x[0][1])\n",
    "\n",
    "print(x[0][1].item())"
   ]
  },
  {
   "cell_type": "code",
   "execution_count": 5,
   "metadata": {},
   "outputs": [
    {
     "name": "stdout",
     "output_type": "stream",
     "text": [
      "torch.Size([3, 2])\n"
     ]
    }
   ],
   "source": [
    "print(x.shape)"
   ]
  },
  {
   "cell_type": "code",
   "execution_count": null,
   "metadata": {
    "collapsed": true
   },
   "outputs": [],
   "source": []
  }
 ],
 "metadata": {
  "kernelspec": {
   "display_name": "pytorchNLP",
   "language": "python",
   "name": "pytorchnlp"
  },
  "language_info": {
   "codemirror_mode": {
    "name": "ipython",
    "version": 3
   },
   "file_extension": ".py",
   "mimetype": "text/x-python",
   "name": "python",
   "nbconvert_exporter": "python",
   "pygments_lexer": "ipython3",
   "version": "3.5.2"
  }
 },
 "nbformat": 4,
 "nbformat_minor": 2
}
