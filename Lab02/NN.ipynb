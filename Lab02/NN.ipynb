{
 "cells": [
  {
   "cell_type": "code",
   "execution_count": 1,
   "metadata": {},
   "outputs": [],
   "source": [
    "import numpy as np \n",
    "import pandas as pd \n",
    "\n",
    "import matplotlib.pyplot as plt\n",
    "\n",
    "from torch import nn, optim\n",
    "import torch.nn.functional as F\n",
    "import torch.utils.data as data\n",
    "import torch\n",
    "from torch.autograd import Variable"
   ]
  },
  {
   "cell_type": "code",
   "execution_count": 2,
   "metadata": {},
   "outputs": [
    {
     "data": {
      "image/png": "[encoded data removed]",
      "text/plain": [
       "<Figure size 432x288 with 1 Axes>"
      ]
     },
     "metadata": {
      "needs_background": "light"
     },
     "output_type": "display_data"
    }
   ],
   "source": [
    "df = pd.read_csv(\"train.csv\")\n",
    "plt.imshow(np.reshape(df.values[0][1:],(28,28)), cmap=plt.get_cmap('gray'))\n",
    "plt.show()"
   ]
  },
  {
   "cell_type": "code",
   "execution_count": 3,
   "metadata": {},
   "outputs": [],
   "source": [
    "train = pd.read_csv(\"train.csv\")\n",
    "train_labels = train['label'].values\n",
    "train = train.drop(\"label\",axis=1).values.reshape(len(train),1,28,28)"
   ]
  },
  {
   "cell_type": "code",
   "execution_count": 4,
   "metadata": {},
   "outputs": [],
   "source": [
    "X = torch.Tensor(train.astype(float))\n",
    "y = torch.Tensor(train_labels).long()"
   ]
  },
  {
   "cell_type": "code",
   "execution_count": 5,
   "metadata": {},
   "outputs": [],
   "source": [
    "class MNISTClassifier(nn.Module):\n",
    "    def __init__(self):\n",
    "        super().__init__()\n",
    "        self.fc1 = nn.Linear(784, 392)\n",
    "        self.fc2 = nn.Linear(392, 196)\n",
    "        self.fc3 = nn.Linear(196, 98)\n",
    "        self.fc4 = nn.Linear(98, 10)\n",
    "        \n",
    "        self.dropout = nn.Dropout(p=0.2)\n",
    "        \n",
    "    def forward(self, x):\n",
    "        x = x.view(x.shape[0], -1)\n",
    "        x = self.dropout(F.relu(self.fc1(x)))\n",
    "        x = self.dropout(F.relu(self.fc2(x)))\n",
    "        x = self.dropout(F.relu(self.fc3(x)))\n",
    "        x = F.log_softmax(self.fc4(x), dim=1)\n",
    "        \n",
    "        return x"
   ]
  },
  {
   "cell_type": "code",
   "execution_count": 6,
   "metadata": {},
   "outputs": [],
   "source": [
    "model = MNISTClassifier()\n",
    "loss_function = nn.NLLLoss()\n",
    "opt = optim.Adam(model.parameters(), lr=0.001)"
   ]
  },
  {
   "cell_type": "code",
   "execution_count": 7,
   "metadata": {},
   "outputs": [
    {
     "name": "stdout",
     "output_type": "stream",
     "text": [
      "Epoch [1/50] Loss: 9.7278\n",
      "Epoch [2/50] Loss: 6.6400\n",
      "Epoch [3/50] Loss: 4.6651\n",
      "Epoch [4/50] Loss: 3.4805\n",
      "Epoch [5/50] Loss: 2.7262\n",
      "Epoch [6/50] Loss: 2.2012\n",
      "Epoch [7/50] Loss: 1.8593\n",
      "Epoch [8/50] Loss: 1.6096\n",
      "Epoch [9/50] Loss: 1.5178\n",
      "Epoch [10/50] Loss: 1.4207\n",
      "Epoch [11/50] Loss: 1.2427\n",
      "Epoch [12/50] Loss: 1.2212\n",
      "Epoch [13/50] Loss: 1.0953\n",
      "Epoch [14/50] Loss: 1.0116\n",
      "Epoch [15/50] Loss: 0.9173\n",
      "Epoch [16/50] Loss: 0.9390\n",
      "Epoch [17/50] Loss: 0.8067\n",
      "Epoch [18/50] Loss: 0.7979\n",
      "Epoch [19/50] Loss: 0.7348\n",
      "Epoch [20/50] Loss: 0.6925\n",
      "Epoch [21/50] Loss: 0.6502\n",
      "Epoch [22/50] Loss: 0.5975\n",
      "Epoch [23/50] Loss: 0.5862\n",
      "Epoch [24/50] Loss: 0.5186\n",
      "Epoch [25/50] Loss: 0.4924\n",
      "Epoch [26/50] Loss: 0.4413\n",
      "Epoch [27/50] Loss: 0.4688\n",
      "Epoch [28/50] Loss: 0.4515\n",
      "Epoch [29/50] Loss: 0.4295\n",
      "Epoch [30/50] Loss: 0.4052\n",
      "Epoch [31/50] Loss: 0.3411\n",
      "Epoch [32/50] Loss: 0.3444\n",
      "Epoch [33/50] Loss: 0.3537\n",
      "Epoch [34/50] Loss: 0.3116\n",
      "Epoch [35/50] Loss: 0.2853\n",
      "Epoch [36/50] Loss: 0.2998\n",
      "Epoch [37/50] Loss: 0.2419\n",
      "Epoch [38/50] Loss: 0.2330\n",
      "Epoch [39/50] Loss: 0.2545\n",
      "Epoch [40/50] Loss: 0.2125\n",
      "Epoch [41/50] Loss: 0.2216\n",
      "Epoch [42/50] Loss: 0.2109\n",
      "Epoch [43/50] Loss: 0.1949\n",
      "Epoch [44/50] Loss: 0.1807\n",
      "Epoch [45/50] Loss: 0.1814\n",
      "Epoch [46/50] Loss: 0.1760\n",
      "Epoch [47/50] Loss: 0.1541\n",
      "Epoch [48/50] Loss: 0.1373\n",
      "Epoch [49/50] Loss: 0.1309\n",
      "Epoch [50/50] Loss: 0.1319\n"
     ]
    }
   ],
   "source": [
    "for epoch in range(50):\n",
    "    \n",
    "    images = Variable(X)\n",
    "    labels = Variable(y)\n",
    "\n",
    "    opt.zero_grad()\n",
    "    outputs = model(images)\n",
    "\n",
    "    loss = loss_function(outputs, labels)\n",
    "    loss.backward()\n",
    "    opt.step()\n",
    "\n",
    "    print ('Epoch [%d/%d] Loss: %.4f' %(epoch+1, 50, loss.data.item()))"
   ]
  },
  {
   "cell_type": "code",
   "execution_count": 319,
   "metadata": {},
   "outputs": [],
   "source": [
    "test = pd.read_csv(\"test.csv\")\n",
    "test_labels = test['label'].values\n",
    "test = test.drop(\"label\",axis=1).values.reshape(len(test),1,28,28)\n",
    "\n",
    "X_test = torch.Tensor(test.astype(float))\n",
    "y_test = torch.Tensor(test_labels).long()"
   ]
  },
  {
   "cell_type": "code",
   "execution_count": 320,
   "metadata": {},
   "outputs": [],
   "source": [
    "preds = model(X_test)"
   ]
  },
  {
   "cell_type": "code",
   "execution_count": 321,
   "metadata": {},
   "outputs": [
    {
     "name": "stdout",
     "output_type": "stream",
     "text": [
      "tensor([-5.8550, -6.8315, -7.0251, -7.9013, -4.3035, -6.1763, -6.9913, -6.0805,\n",
      "        -5.7120, -0.0277], grad_fn=<SelectBackward>)\n"
     ]
    }
   ],
   "source": [
    "print(preds[0])"
   ]
  },
  {
   "cell_type": "code",
   "execution_count": 322,
   "metadata": {},
   "outputs": [
    {
     "data": {
      "text/html": [
       "<div>\n",
       "<style scoped>\n",
       "    .dataframe tbody tr th:only-of-type {\n",
       "        vertical-align: middle;\n",
       "    }\n",
       "\n",
       "    .dataframe tbody tr th {\n",
       "        vertical-align: top;\n",
       "    }\n",
       "\n",
       "    .dataframe thead th {\n",
       "        text-align: right;\n",
       "    }\n",
       "</style>\n",
       "<table border=\"1\" class=\"dataframe\">\n",
       "  <thead>\n",
       "    <tr style=\"text-align: right;\">\n",
       "      <th></th>\n",
       "      <th>Predicted Value</th>\n",
       "      <th>True Value</th>\n",
       "    </tr>\n",
       "  </thead>\n",
       "  <tbody>\n",
       "    <tr>\n",
       "      <th>0</th>\n",
       "      <td>9</td>\n",
       "      <td>9</td>\n",
       "    </tr>\n",
       "    <tr>\n",
       "      <th>1</th>\n",
       "      <td>8</td>\n",
       "      <td>5</td>\n",
       "    </tr>\n",
       "    <tr>\n",
       "      <th>2</th>\n",
       "      <td>2</td>\n",
       "      <td>2</td>\n",
       "    </tr>\n",
       "    <tr>\n",
       "      <th>3</th>\n",
       "      <td>4</td>\n",
       "      <td>4</td>\n",
       "    </tr>\n",
       "    <tr>\n",
       "      <th>4</th>\n",
       "      <td>1</td>\n",
       "      <td>1</td>\n",
       "    </tr>\n",
       "  </tbody>\n",
       "</table>\n",
       "</div>"
      ],
      "text/plain": [
       "   Predicted Value  True Value\n",
       "0                9           9\n",
       "1                8           5\n",
       "2                2           2\n",
       "3                4           4\n",
       "4                1           1"
      ]
     },
     "metadata": {},
     "output_type": "display_data"
    }
   ],
   "source": [
    "_, predictionlabel = torch.max(preds.data, 1)\n",
    "predictionlabel = predictionlabel.tolist()\n",
    "\n",
    "predictionlabel = pd.Series(predictionlabel)\n",
    "test_labels = pd.Series(test_labels)\n",
    "\n",
    "pred_table = pd.concat([predictionlabel, test_labels], axis=1)\n",
    "pred_table.columns =['Predicted Value', 'True Value']\n",
    "\n",
    "display(pred_table.head())"
   ]
  },
  {
   "cell_type": "code",
   "execution_count": 323,
   "metadata": {},
   "outputs": [
    {
     "name": "stdout",
     "output_type": "stream",
     "text": [
      "89.5\n"
     ]
    }
   ],
   "source": [
    "preds = len(predictionlabel)\n",
    "correct = len([1 for x,y in zip(predictionlabel, test_labels) if x==y])\n",
    "print((correct/preds)*100)"
   ]
  }
 ],
 "metadata": {
  "kernelspec": {
   "display_name": "pytorchNLP",
   "language": "python",
   "name": "pytorchnlp"
  },
  "language_info": {
   "codemirror_mode": {
    "name": "ipython",
    "version": 3
   },
   "file_extension": ".py",
   "mimetype": "text/x-python",
   "name": "python",
   "nbconvert_exporter": "python",
   "pygments_lexer": "ipython3",
   "version": "3.5.2"
  }
 },
 "nbformat": 4,
 "nbformat_minor": 2
}
