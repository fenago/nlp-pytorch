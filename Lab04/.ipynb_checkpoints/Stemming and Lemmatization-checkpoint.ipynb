{
 "cells": [
  {
   "cell_type": "code",
   "execution_count": null,
   "metadata": {},
   "outputs": [],
   "source": [
    "from nltk.stem import PorterStemmer\n",
    "import nltk.corpus\n",
    "from nltk.corpus import wordnet\n",
    "from nltk import word_tokenize\n",
    "import nltk\n",
    "nltk.download('wordnet')\n",
    "from nltk.stem import WordNetLemmatizer"
   ]
  },
  {
   "cell_type": "code",
   "execution_count": null,
   "metadata": {},
   "outputs": [],
   "source": [
    "porter = PorterStemmer()"
   ]
  },
  {
   "cell_type": "code",
   "execution_count": null,
   "metadata": {},
   "outputs": [],
   "source": [
    "word_list = [\"see\",\"saw\",\"cat\", \"cats\", \"stem\", \"stemming\",\"lemma\",\"lemmatization\",\"known\",\"knowing\",\"time\", \"timing\",\"football\", \"footballers\"]\n",
    "for word in word_list:\n",
    "    print(word + ' -> ' + porter.stem(word))"
   ]
  },
  {
   "cell_type": "code",
   "execution_count": null,
   "metadata": {},
   "outputs": [],
   "source": [
    "def SentenceStemmer(sentence):\n",
    "    tokens=word_tokenize(sentence)\n",
    "    stems=[porter.stem(word) for word in tokens]\n",
    "    return \" \".join(stems)\n",
    "\n",
    "SentenceStemmer('The cats and dogs are running')"
   ]
  },
  {
   "cell_type": "code",
   "execution_count": null,
   "metadata": {},
   "outputs": [],
   "source": [
    "wordnet_lemmatizer = WordNetLemmatizer()\n",
    "\n",
    "print(wordnet_lemmatizer.lemmatize('horses'))\n",
    "print(wordnet_lemmatizer.lemmatize('wolves'))\n",
    "print(wordnet_lemmatizer.lemmatize('mice'))\n",
    "print(wordnet_lemmatizer.lemmatize('cacti'))"
   ]
  },
  {
   "cell_type": "code",
   "execution_count": null,
   "metadata": {},
   "outputs": [],
   "source": [
    "print(wordnet_lemmatizer.lemmatize('madeupwords'))\n",
    "print(porter.stem('madeupwords'))"
   ]
  },
  {
   "cell_type": "code",
   "execution_count": null,
   "metadata": {},
   "outputs": [],
   "source": [
    "print(wordnet_lemmatizer.lemmatize('ran'))\n",
    "print(wordnet_lemmatizer.lemmatize('run'))"
   ]
  },
  {
   "cell_type": "code",
   "execution_count": null,
   "metadata": {},
   "outputs": [],
   "source": [
    "print(wordnet_lemmatizer.lemmatize('ran', pos='v'))\n",
    "print(wordnet_lemmatizer.lemmatize('run', pos='v'))"
   ]
  },
  {
   "cell_type": "code",
   "execution_count": null,
   "metadata": {},
   "outputs": [],
   "source": [
    "sentence = 'The cats and dogs are running'\n",
    "\n",
    "def return_word_pos_tuples(sentence):\n",
    "    return nltk.pos_tag(nltk.word_tokenize(sentence))\n",
    "\n",
    "return_word_pos_tuples(sentence)"
   ]
  },
  {
   "cell_type": "code",
   "execution_count": null,
   "metadata": {},
   "outputs": [],
   "source": [
    "def get_pos_wordnet(pos_tag):\n",
    "    pos_dict = {\"N\": wordnet.NOUN,\n",
    "                \"V\": wordnet.VERB,\n",
    "                \"J\": wordnet.ADJ,\n",
    "                \"R\": wordnet.ADV}\n",
    "\n",
    "    return pos_dict.get(pos_tag[0].upper(), wordnet.NOUN)\n",
    "\n",
    "get_pos_wordnet('VBG')"
   ]
  },
  {
   "cell_type": "code",
   "execution_count": null,
   "metadata": {},
   "outputs": [],
   "source": [
    "def lemmatize_with_pos(sentence):\n",
    "    new_sentence = []\n",
    "    tuples = return_word_pos_tuples(sentence)\n",
    "    for tup in tuples:\n",
    "        pos = get_pos_wordnet(tup[1])\n",
    "        lemma = wordnet_lemmatizer.lemmatize(tup[0], pos=pos)\n",
    "        new_sentence.append(lemma)\n",
    "    return new_sentence\n",
    "\n",
    "print(lemmatize_with_pos(sentence))"
   ]
  }
 ],
 "metadata": {
  "kernelspec": {
   "display_name": "Python 3",
   "language": "python",
   "name": "python3"
  },
  "language_info": {
   "codemirror_mode": {
    "name": "ipython",
    "version": 3
   },
   "file_extension": ".py",
   "mimetype": "text/x-python",
   "name": "python",
   "nbconvert_exporter": "python",
   "pygments_lexer": "ipython3",
   "version": "3.7.3"
  }
 },
 "nbformat": 4,
 "nbformat_minor": 2
}
