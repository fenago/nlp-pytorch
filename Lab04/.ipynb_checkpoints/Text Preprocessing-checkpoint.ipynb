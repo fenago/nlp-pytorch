{
 "cells": [
  {
   "cell_type": "code",
   "execution_count": null,
   "metadata": {},
   "outputs": [],
   "source": [
    "from bs4 import BeautifulSoup\n",
    "import re\n",
    "import inflect"
   ]
  },
  {
   "cell_type": "code",
   "execution_count": null,
   "metadata": {},
   "outputs": [],
   "source": [
    "input_text = \"<b> This text is in bold</br>, <i> This text is in italics </i>\"\n",
    "output_text =  BeautifulSoup(input_text, \"html.parser\").get_text()\n",
    "print('Input: ' + input_text)\n",
    "print('Output: ' + output_text)"
   ]
  },
  {
   "cell_type": "code",
   "execution_count": null,
   "metadata": {},
   "outputs": [],
   "source": [
    "input_text = ['Cat','cat','CAT']\n",
    "output_text =  [x.lower() for x in input_text]\n",
    "print('Input: ' + str(input_text))\n",
    "print('Output: ' + str(output_text))"
   ]
  },
  {
   "cell_type": "code",
   "execution_count": null,
   "metadata": {},
   "outputs": [],
   "source": [
    "input_text = \"This ,sentence.'' contains-£ no:: punctuation?\"\n",
    "output_text = re.sub(r'[^\\w\\s]', '', input_text)\n",
    "print('Input: ' + input_text)\n",
    "print('Output: ' + output_text)"
   ]
  },
  {
   "cell_type": "code",
   "execution_count": null,
   "metadata": {},
   "outputs": [],
   "source": [
    "input_text = \"Cats & dogs\"\n",
    "output_text = input_text.replace(\"&\", \"and\")\n",
    "print('Input: ' + input_text)\n",
    "print('Output: ' + output_text)"
   ]
  },
  {
   "cell_type": "code",
   "execution_count": null,
   "metadata": {},
   "outputs": [],
   "source": [
    "def to_digit(digit):\n",
    "    i = inflect.engine()\n",
    "    if digit.isdigit():\n",
    "        output = i.number_to_words(digit)\n",
    "    else:\n",
    "        output = digit\n",
    "    return output\n",
    "\n",
    "input_text = [\"1\",\"two\",\"3\"]\n",
    "output_text = [to_digit(x) for x in input_text]\n",
    "print('Input: ' + str(input_text))\n",
    "print('Output: ' + str(output_text))"
   ]
  },
  {
   "cell_type": "code",
   "execution_count": null,
   "metadata": {},
   "outputs": [],
   "source": [
    "input_text = [\"0800118118\"]\n",
    "output_text = [to_digit(x) for x in input_text]\n",
    "print('Input: ' + str(input_text))\n",
    "print('Output: ' + str(output_text))"
   ]
  }
 ],
 "metadata": {
  "kernelspec": {
   "display_name": "Python 3",
   "language": "python",
   "name": "python3"
  },
  "language_info": {
   "codemirror_mode": {
    "name": "ipython",
    "version": 3
   },
   "file_extension": ".py",
   "mimetype": "text/x-python",
   "name": "python",
   "nbconvert_exporter": "python",
   "pygments_lexer": "ipython3",
   "version": "3.7.3"
  }
 },
 "nbformat": 4,
 "nbformat_minor": 2
}
