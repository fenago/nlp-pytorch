{
 "cells": [
  {
   "cell_type": "code",
   "execution_count": 1,
   "metadata": {},
   "outputs": [
    {
     "name": "stderr",
     "output_type": "stream",
     "text": [
      "[nltk_data] Downloading package wordnet to /Users/tom/nltk_data...\n",
      "[nltk_data]   Package wordnet is already up-to-date!\n"
     ]
    }
   ],
   "source": [
    "from nltk.stem import PorterStemmer\n",
    "import nltk.corpus\n",
    "from nltk.corpus import wordnet\n",
    "from nltk import word_tokenize\n",
    "import nltk\n",
    "nltk.download('wordnet')\n",
    "from nltk.stem import WordNetLemmatizer"
   ]
  },
  {
   "cell_type": "code",
   "execution_count": 2,
   "metadata": {},
   "outputs": [],
   "source": [
    "porter = PorterStemmer()"
   ]
  },
  {
   "cell_type": "code",
   "execution_count": 3,
   "metadata": {},
   "outputs": [
    {
     "name": "stdout",
     "output_type": "stream",
     "text": [
      "see -> see\n",
      "saw -> saw\n",
      "cat -> cat\n",
      "cats -> cat\n",
      "stem -> stem\n",
      "stemming -> stem\n",
      "lemma -> lemma\n",
      "lemmatization -> lemmat\n",
      "known -> known\n",
      "knowing -> know\n",
      "time -> time\n",
      "timing -> time\n",
      "football -> footbal\n",
      "footballers -> footbal\n"
     ]
    }
   ],
   "source": [
    "word_list = [\"see\",\"saw\",\"cat\", \"cats\", \"stem\", \"stemming\",\"lemma\",\"lemmatization\",\"known\",\"knowing\",\"time\", \"timing\",\"football\", \"footballers\"]\n",
    "for word in word_list:\n",
    "    print(word + ' -> ' + porter.stem(word))"
   ]
  },
  {
   "cell_type": "code",
   "execution_count": 4,
   "metadata": {},
   "outputs": [
    {
     "data": {
      "text/plain": [
       "'the cat and dog are run'"
      ]
     },
     "execution_count": 4,
     "metadata": {},
     "output_type": "execute_result"
    }
   ],
   "source": [
    "def SentenceStemmer(sentence):\n",
    "    tokens=word_tokenize(sentence)\n",
    "    stems=[porter.stem(word) for word in tokens]\n",
    "    return \" \".join(stems)\n",
    "\n",
    "SentenceStemmer('The cats and dogs are running')"
   ]
  },
  {
   "cell_type": "code",
   "execution_count": 5,
   "metadata": {},
   "outputs": [
    {
     "name": "stdout",
     "output_type": "stream",
     "text": [
      "horse\n",
      "wolf\n",
      "mouse\n",
      "cactus\n"
     ]
    }
   ],
   "source": [
    "wordnet_lemmatizer = WordNetLemmatizer()\n",
    "\n",
    "print(wordnet_lemmatizer.lemmatize('horses'))\n",
    "print(wordnet_lemmatizer.lemmatize('wolves'))\n",
    "print(wordnet_lemmatizer.lemmatize('mice'))\n",
    "print(wordnet_lemmatizer.lemmatize('cacti'))"
   ]
  },
  {
   "cell_type": "code",
   "execution_count": 6,
   "metadata": {},
   "outputs": [
    {
     "name": "stdout",
     "output_type": "stream",
     "text": [
      "madeupwords\n",
      "madeupword\n"
     ]
    }
   ],
   "source": [
    "print(wordnet_lemmatizer.lemmatize('madeupwords'))\n",
    "print(porter.stem('madeupwords'))"
   ]
  },
  {
   "cell_type": "code",
   "execution_count": 7,
   "metadata": {},
   "outputs": [
    {
     "name": "stdout",
     "output_type": "stream",
     "text": [
      "ran\n",
      "run\n"
     ]
    }
   ],
   "source": [
    "print(wordnet_lemmatizer.lemmatize('ran'))\n",
    "print(wordnet_lemmatizer.lemmatize('run'))"
   ]
  },
  {
   "cell_type": "code",
   "execution_count": 8,
   "metadata": {},
   "outputs": [
    {
     "name": "stdout",
     "output_type": "stream",
     "text": [
      "run\n",
      "run\n"
     ]
    }
   ],
   "source": [
    "print(wordnet_lemmatizer.lemmatize('ran', pos='v'))\n",
    "print(wordnet_lemmatizer.lemmatize('run', pos='v'))"
   ]
  },
  {
   "cell_type": "code",
   "execution_count": 9,
   "metadata": {},
   "outputs": [
    {
     "data": {
      "text/plain": [
       "[('The', 'DT'),\n",
       " ('cats', 'NNS'),\n",
       " ('and', 'CC'),\n",
       " ('dogs', 'NNS'),\n",
       " ('are', 'VBP'),\n",
       " ('running', 'VBG')]"
      ]
     },
     "execution_count": 9,
     "metadata": {},
     "output_type": "execute_result"
    }
   ],
   "source": [
    "sentence = 'The cats and dogs are running'\n",
    "\n",
    "def return_word_pos_tuples(sentence):\n",
    "    return nltk.pos_tag(nltk.word_tokenize(sentence))\n",
    "\n",
    "return_word_pos_tuples(sentence)"
   ]
  },
  {
   "cell_type": "code",
   "execution_count": 10,
   "metadata": {},
   "outputs": [
    {
     "data": {
      "text/plain": [
       "'v'"
      ]
     },
     "execution_count": 10,
     "metadata": {},
     "output_type": "execute_result"
    }
   ],
   "source": [
    "def get_pos_wordnet(pos_tag):\n",
    "    pos_dict = {\"N\": wordnet.NOUN,\n",
    "                \"V\": wordnet.VERB,\n",
    "                \"J\": wordnet.ADJ,\n",
    "                \"R\": wordnet.ADV}\n",
    "\n",
    "    return pos_dict.get(pos_tag[0].upper(), wordnet.NOUN)\n",
    "\n",
    "get_pos_wordnet('VBG')"
   ]
  },
  {
   "cell_type": "code",
   "execution_count": 11,
   "metadata": {},
   "outputs": [
    {
     "name": "stdout",
     "output_type": "stream",
     "text": [
      "['The', 'cat', 'and', 'dog', 'be', 'run']\n"
     ]
    }
   ],
   "source": [
    "def lemmatize_with_pos(sentence):\n",
    "    new_sentence = []\n",
    "    tuples = return_word_pos_tuples(sentence)\n",
    "    for tup in tuples:\n",
    "        pos = get_pos_wordnet(tup[1])\n",
    "        lemma = wordnet_lemmatizer.lemmatize(tup[0], pos=pos)\n",
    "        new_sentence.append(lemma)\n",
    "    return new_sentence\n",
    "\n",
    "print(lemmatize_with_pos(sentence))"
   ]
  }
 ],
 "metadata": {
  "kernelspec": {
   "display_name": "pytorchNLP",
   "language": "python",
   "name": "pytorchnlp"
  },
  "language_info": {
   "codemirror_mode": {
    "name": "ipython",
    "version": 3
   },
   "file_extension": ".py",
   "mimetype": "text/x-python",
   "name": "python",
   "nbconvert_exporter": "python",
   "pygments_lexer": "ipython3",
   "version": "3.5.2"
  }
 },
 "nbformat": 4,
 "nbformat_minor": 2
}
