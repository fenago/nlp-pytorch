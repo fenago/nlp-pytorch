{
 "cells": [
  {
   "cell_type": "code",
   "execution_count": 1,
   "metadata": {},
   "outputs": [],
   "source": [
    "from torchtext import data\n",
    "from torchtext import datasets\n",
    "import torch\n",
    "import spacy\n",
    "import random\n",
    "import numpy as np\n",
    "\n",
    "import time\n",
    "\n",
    "import torch.nn as nn\n",
    "import torch.nn.functional as F\n",
    "\n",
    "import spacy\n",
    "nlp = spacy.load('en')"
   ]
  },
  {
   "cell_type": "code",
   "execution_count": 3,
   "metadata": {},
   "outputs": [],
   "source": [
    "questions = data.Field(tokenize = 'spacy', batch_first = True)\n",
    "labels = data.LabelField(dtype = torch.float)"
   ]
  },
  {
   "cell_type": "code",
   "execution_count": 4,
   "metadata": {},
   "outputs": [],
   "source": [
    "train_data, _ = datasets.TREC.splits(questions, labels)\n",
    "\n",
    "train_data, valid_data = train_data.split()"
   ]
  },
  {
   "cell_type": "code",
   "execution_count": 30,
   "metadata": {},
   "outputs": [
    {
     "data": {
      "text/plain": [
       "<torchtext.data.dataset.Dataset at 0x1332b4e50>"
      ]
     },
     "execution_count": 30,
     "metadata": {},
     "output_type": "execute_result"
    }
   ],
   "source": [
    "train_data"
   ]
  },
  {
   "cell_type": "code",
   "execution_count": 5,
   "metadata": {},
   "outputs": [
    {
     "data": {
      "text/plain": [
       "['What',\n",
       " 'amount',\n",
       " 'of',\n",
       " 'money',\n",
       " 'did',\n",
       " 'the',\n",
       " 'Philippine',\n",
       " 'ex',\n",
       " '-',\n",
       " 'dictator',\n",
       " 'Marcos',\n",
       " 'steal',\n",
       " 'from',\n",
       " 'the',\n",
       " 'treasury',\n",
       " '?']"
      ]
     },
     "execution_count": 5,
     "metadata": {},
     "output_type": "execute_result"
    }
   ],
   "source": [
    "train_data.examples[0].text"
   ]
  },
  {
   "cell_type": "code",
   "execution_count": 6,
   "metadata": {},
   "outputs": [
    {
     "data": {
      "text/plain": [
       "'NUM'"
      ]
     },
     "execution_count": 6,
     "metadata": {},
     "output_type": "execute_result"
    }
   ],
   "source": [
    "train_data.examples[0].label"
   ]
  },
  {
   "cell_type": "code",
   "execution_count": 31,
   "metadata": {},
   "outputs": [
    {
     "name": "stdout",
     "output_type": "stream",
     "text": [
      "3816\n",
      "1636\n"
     ]
    }
   ],
   "source": [
    "print(len(train_data))\n",
    "print(len(valid_data))"
   ]
  },
  {
   "cell_type": "code",
   "execution_count": 9,
   "metadata": {},
   "outputs": [],
   "source": [
    "questions.build_vocab(train_data,\n",
    "                 vectors = \"glove.6B.200d\", \n",
    "                 unk_init = torch.Tensor.normal_)\n",
    "\n",
    "labels.build_vocab(train_data)"
   ]
  },
  {
   "cell_type": "code",
   "execution_count": 42,
   "metadata": {},
   "outputs": [
    {
     "data": {
      "text/plain": [
       "tensor([[-0.5928,  1.9557, -0.4180,  ..., -0.1732, -1.0009, -0.7655],\n",
       "        [-1.1752, -1.5180,  1.7845,  ...,  0.4673, -1.0432,  0.5888],\n",
       "        [ 0.3911,  0.4019, -0.1505,  ..., -0.0348,  0.0798,  0.5031],\n",
       "        ...,\n",
       "        [-0.4949, -0.1262, -1.1698,  ...,  0.5565,  0.5634,  0.5782],\n",
       "        [ 0.5741, -0.4343, -0.1119,  ...,  0.7629,  0.3831, -0.1570],\n",
       "        [-0.2597,  0.6716,  0.5353,  ...,  1.6765,  0.3301, -0.1003]])"
      ]
     },
     "execution_count": 42,
     "metadata": {},
     "output_type": "execute_result"
    }
   ],
   "source": [
    "questions.vocab.vectors"
   ]
  },
  {
   "cell_type": "code",
   "execution_count": 13,
   "metadata": {},
   "outputs": [],
   "source": [
    "device = torch.device('cuda' if torch.cuda.is_available() else 'cpu')\n",
    "\n",
    "train_iterator, valid_iterator = data.BucketIterator.splits(\n",
    "    (train_data, valid_data), \n",
    "    batch_size = 64, \n",
    "    device = device)"
   ]
  },
  {
   "cell_type": "code",
   "execution_count": 14,
   "metadata": {},
   "outputs": [],
   "source": [
    "class CNN(nn.Module):\n",
    "    def __init__(self, vocab_size, embedding_dim, n_filters, filter_sizes, output_dim, dropout, pad_idx):\n",
    "        \n",
    "        super().__init__()\n",
    "                \n",
    "        self.embedding = nn.Embedding(vocab_size, embedding_dim, padding_idx = pad_idx)\n",
    "        \n",
    "        self.convs = nn.ModuleList([\n",
    "                                    nn.Conv2d(in_channels = 1, \n",
    "                                              out_channels = n_filters, \n",
    "                                              kernel_size = (fs, embedding_dim)) \n",
    "                                    for fs in filter_sizes\n",
    "                                    ])\n",
    "        \n",
    "        self.fc = nn.Linear(len(filter_sizes) * n_filters, output_dim)\n",
    "        \n",
    "        self.dropout = nn.Dropout(dropout)\n",
    "        \n",
    "    def forward(self, text):\n",
    "        \n",
    "        emb = self.embedding(text).unsqueeze(1)\n",
    "        \n",
    "        conved = [F.relu(c(emb)).squeeze(3) for c in self.convs]\n",
    "                \n",
    "        pooled = [F.max_pool1d(c, c.shape[2]).squeeze(2) for c in conved]\n",
    "        \n",
    "        concat = self.dropout(torch.cat(pooled, dim = 1))\n",
    "            \n",
    "        return self.fc(concat)"
   ]
  },
  {
   "cell_type": "code",
   "execution_count": 45,
   "metadata": {},
   "outputs": [],
   "source": [
    "input_dimensions = len(questions.vocab)\n",
    "output_dimensions = 6\n",
    "embedding_dimensions = 200\n",
    "pad_index = questions.vocab.stoi[questions.pad_token]\n",
    "\n",
    "number_of_filters = 100\n",
    "filter_sizes = [2,3,4]\n",
    "dropout_pc = 0.5\n",
    "\n",
    "\n",
    "model = CNN(input_dimensions, embedding_dimensions, number_of_filters, \n",
    "            filter_sizes, output_dimensions, dropout_pc, pad_index)"
   ]
  },
  {
   "cell_type": "code",
   "execution_count": 43,
   "metadata": {},
   "outputs": [
    {
     "data": {
      "text/plain": [
       "tensor([[-0.5928,  1.9557, -0.4180,  ..., -0.1732, -1.0009, -0.7655],\n",
       "        [-1.1752, -1.5180,  1.7845,  ...,  0.4673, -1.0432,  0.5888],\n",
       "        [ 0.3911,  0.4019, -0.1505,  ..., -0.0348,  0.0798,  0.5031],\n",
       "        ...,\n",
       "        [-0.4949, -0.1262, -1.1698,  ...,  0.5565,  0.5634,  0.5782],\n",
       "        [ 0.5741, -0.4343, -0.1119,  ...,  0.7629,  0.3831, -0.1570],\n",
       "        [-0.2597,  0.6716,  0.5353,  ...,  1.6765,  0.3301, -0.1003]])"
      ]
     },
     "execution_count": 43,
     "metadata": {},
     "output_type": "execute_result"
    }
   ],
   "source": [
    "glove_embeddings = questions.vocab.vectors\n",
    "\n",
    "model.embedding.weight.data.copy_(glove_embeddings)"
   ]
  },
  {
   "cell_type": "code",
   "execution_count": 17,
   "metadata": {},
   "outputs": [],
   "source": [
    "unknown_index = questions.vocab.stoi[questions.unk_token]\n",
    "\n",
    "model.embedding.weight.data[unknown_index] = torch.zeros(embedding_dimensions)\n",
    "model.embedding.weight.data[pad_index] = torch.zeros(embedding_dimensions)"
   ]
  },
  {
   "cell_type": "code",
   "execution_count": 48,
   "metadata": {},
   "outputs": [],
   "source": [
    "optimizer = torch.optim.Adam(model.parameters())\n",
    "\n",
    "criterion = nn.CrossEntropyLoss().to(device)\n",
    "\n",
    "model = model.to(device)"
   ]
  },
  {
   "cell_type": "code",
   "execution_count": 19,
   "metadata": {},
   "outputs": [],
   "source": [
    "def multi_accuracy(preds, y):\n",
    "    pred = torch.max(preds,1).indices\n",
    "    correct = (pred == y).float()\n",
    "    acc = correct.sum() / len(correct)\n",
    "    return acc"
   ]
  },
  {
   "cell_type": "code",
   "execution_count": 20,
   "metadata": {},
   "outputs": [],
   "source": [
    "def train(model, iterator, optimizer, criterion):\n",
    "    \n",
    "    epoch_loss = 0\n",
    "    epoch_acc = 0\n",
    "    \n",
    "    model.train()\n",
    "    \n",
    "    for batch in iterator:\n",
    "        \n",
    "        optimizer.zero_grad()\n",
    "        \n",
    "        preds = model(batch.text).squeeze(1)\n",
    "        loss = criterion(preds, batch.label.long())\n",
    "        \n",
    "        acc = multi_accuracy(preds, batch.label)\n",
    "        \n",
    "        loss.backward()\n",
    "        \n",
    "        optimizer.step()\n",
    "        \n",
    "        epoch_loss += loss.item()\n",
    "        epoch_acc += acc.item()\n",
    "        \n",
    "    total_epoch_loss = epoch_loss / len(iterator)\n",
    "    total_epoch_accuracy = epoch_acc / len(iterator)\n",
    "        \n",
    "    return total_epoch_loss, total_epoch_accuracy"
   ]
  },
  {
   "cell_type": "code",
   "execution_count": 21,
   "metadata": {},
   "outputs": [],
   "source": [
    "def evaluate(model, iterator, criterion):\n",
    "    \n",
    "    epoch_loss = 0\n",
    "    epoch_acc = 0\n",
    "    \n",
    "    model.eval()\n",
    "    \n",
    "    with torch.no_grad():\n",
    "    \n",
    "        for batch in iterator:\n",
    "\n",
    "            preds = model(batch.text).squeeze(1)\n",
    "            \n",
    "            loss = criterion(preds, batch.label.long())\n",
    "            \n",
    "            acc = multi_accuracy(preds, batch.label)\n",
    "\n",
    "            epoch_loss += loss.item()\n",
    "            epoch_acc += acc.item()\n",
    "            \n",
    "    total_epoch_loss = epoch_loss / len(iterator)\n",
    "    total_epoch_accuracy = epoch_acc / len(iterator)\n",
    "        \n",
    "    return total_epoch_loss, total_epoch_accuracy"
   ]
  },
  {
   "cell_type": "code",
   "execution_count": 23,
   "metadata": {},
   "outputs": [
    {
     "name": "stdout",
     "output_type": "stream",
     "text": [
      "Epoch: 01 | Epoch Time: 7s\n",
      "\tTrain Loss: 1.198 | Train Acc: 52.22%\n",
      "\t Val. Loss: 0.859 |  Val. Acc: 69.83%\n",
      "Epoch: 02 | Epoch Time: 7s\n",
      "\tTrain Loss: 0.750 | Train Acc: 73.97%\n",
      "\t Val. Loss: 0.667 |  Val. Acc: 76.32%\n",
      "Epoch: 03 | Epoch Time: 8s\n",
      "\tTrain Loss: 0.515 | Train Acc: 83.02%\n",
      "\t Val. Loss: 0.555 |  Val. Acc: 79.85%\n",
      "Epoch: 04 | Epoch Time: 8s\n",
      "\tTrain Loss: 0.350 | Train Acc: 89.49%\n",
      "\t Val. Loss: 0.491 |  Val. Acc: 82.51%\n",
      "Epoch: 05 | Epoch Time: 7s\n",
      "\tTrain Loss: 0.239 | Train Acc: 93.22%\n",
      "\t Val. Loss: 0.456 |  Val. Acc: 83.57%\n",
      "Epoch: 06 | Epoch Time: 8s\n",
      "\tTrain Loss: 0.165 | Train Acc: 95.89%\n",
      "\t Val. Loss: 0.445 |  Val. Acc: 83.53%\n",
      "Epoch: 07 | Epoch Time: 8s\n",
      "\tTrain Loss: 0.113 | Train Acc: 97.48%\n",
      "\t Val. Loss: 0.427 |  Val. Acc: 85.02%\n",
      "Epoch: 08 | Epoch Time: 7s\n",
      "\tTrain Loss: 0.086 | Train Acc: 98.19%\n",
      "\t Val. Loss: 0.434 |  Val. Acc: 84.49%\n",
      "Epoch: 09 | Epoch Time: 8s\n",
      "\tTrain Loss: 0.058 | Train Acc: 98.96%\n",
      "\t Val. Loss: 0.426 |  Val. Acc: 85.45%\n",
      "Epoch: 10 | Epoch Time: 7s\n",
      "\tTrain Loss: 0.051 | Train Acc: 98.80%\n",
      "\t Val. Loss: 0.434 |  Val. Acc: 85.26%\n"
     ]
    }
   ],
   "source": [
    "epochs = 10\n",
    "\n",
    "lowest_validation_loss = float('inf')\n",
    "\n",
    "for epoch in range(epochs):\n",
    "\n",
    "    start_time = time.time()\n",
    "    \n",
    "    train_loss, train_acc = train(model, train_iterator, optimizer, criterion)\n",
    "    valid_loss, valid_acc = evaluate(model, valid_iterator, criterion)\n",
    "    \n",
    "    end_time = time.time()\n",
    "    \n",
    "    if valid_loss < lowest_validation_loss:\n",
    "        lowest_validation_loss = valid_loss\n",
    "        torch.save(model.state_dict(), 'cnn_model.pt')\n",
    "    \n",
    "    print(f'Epoch: {epoch+1:02} | Epoch Time: {int(end_time - start_time)}s')\n",
    "    print(f'\\tTrain Loss: {train_loss:.3f} | Train Acc: {train_acc*100:.2f}%')\n",
    "    print(f'\\t Val. Loss: {valid_loss:.3f} |  Val. Acc: {valid_acc*100:.2f}%')"
   ]
  },
  {
   "cell_type": "code",
   "execution_count": 24,
   "metadata": {},
   "outputs": [
    {
     "data": {
      "text/plain": [
       "<All keys matched successfully>"
      ]
     },
     "execution_count": 24,
     "metadata": {},
     "output_type": "execute_result"
    }
   ],
   "source": [
    "model.load_state_dict(torch.load('cnn_model.pt'))"
   ]
  },
  {
   "cell_type": "code",
   "execution_count": 25,
   "metadata": {},
   "outputs": [],
   "source": [
    "def predict_sentiment(model, sentence, min_len = 5):\n",
    "    \n",
    "    tokenized = [tok.text for tok in nlp.tokenizer(sentence)]\n",
    "    if len(tokenized) < min_len:\n",
    "        tokenized += ['<pad>'] * (min_len - len(tokenized))\n",
    "    indexed = [questions.vocab.stoi[t] for t in tokenized]\n",
    "    tensor = torch.LongTensor(indexed).to(device)\n",
    "    tensor = tensor.unsqueeze(0)\n",
    "    \n",
    "    model.eval()\n",
    "    prediction = torch.max(model(tensor),1).indices.item()\n",
    "    pred_index = labels.vocab.itos[prediction]\n",
    "    \n",
    "    return pred_index"
   ]
  },
  {
   "cell_type": "code",
   "execution_count": 26,
   "metadata": {},
   "outputs": [
    {
     "name": "stdout",
     "output_type": "stream",
     "text": [
      "Predicted class is: NUM\n"
     ]
    }
   ],
   "source": [
    "pred_class = predict_class(model, \"How many roads must a man walk down?\")\n",
    "print('Predicted class is: ' + str(pred_class))"
   ]
  }
 ],
 "metadata": {
  "kernelspec": {
   "display_name": "threepointseven",
   "language": "python",
   "name": "threepointseven"
  },
  "language_info": {
   "codemirror_mode": {
    "name": "ipython",
    "version": 3
   },
   "file_extension": ".py",
   "mimetype": "text/x-python",
   "name": "python",
   "nbconvert_exporter": "python",
   "pygments_lexer": "ipython3",
   "version": "3.7.4"
  }
 },
 "nbformat": 4,
 "nbformat_minor": 2
}
